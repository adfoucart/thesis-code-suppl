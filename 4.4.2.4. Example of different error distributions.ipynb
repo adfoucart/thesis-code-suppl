{
 "cells": [
  {
   "cell_type": "markdown",
   "id": "8ff27617",
   "metadata": {},
   "source": [
    "# 4.4.2.4 Example of different error distributions in 3 class confusion matrices\n",
    "\n",
    "Illustration in the conclusions on imbalanced datasets in classification tasks"
   ]
  },
  {
   "cell_type": "code",
   "execution_count": 1,
   "id": "3b8c6308",
   "metadata": {},
   "outputs": [],
   "source": [
    "import numpy as np\n",
    "from matplotlib import pyplot as plt\n",
    "%matplotlib inline\n",
    "\n",
    "from metrics.classification import kappaU, MCC, Accuracy, F1c, sF1, hF1, GM"
   ]
  },
  {
   "cell_type": "code",
   "execution_count": 2,
   "id": "3bf65cd8",
   "metadata": {},
   "outputs": [
    {
     "name": "stdout",
     "output_type": "stream",
     "text": [
      "ConfMat 1\n",
      "Acc  0.769\n",
      "GM   0.769\n",
      "kU   0.654\n",
      "MCC  0.654\n",
      "hF1  0.771\n",
      "sF1  0.755\n",
      "ConfMat 2\n",
      "Acc  0.769\n",
      "GM   0.769\n",
      "kU   0.654\n",
      "MCC  0.660\n",
      "hF1  0.783\n",
      "sF1  0.780\n",
      "ConfMat 3\n",
      "Acc  0.769\n",
      "GM   0.675\n",
      "kU   0.654\n",
      "MCC  0.713\n",
      "hF1  0.814\n",
      "sF1  0.871\n"
     ]
    },
    {
     "data": {
      "image/png": "[encoded data removed]",
      "text/plain": [
       "<Figure size 1080x360 with 3 Axes>"
      ]
     },
     "metadata": {
      "needs_background": "light"
     },
     "output_type": "display_data"
    }
   ],
   "source": [
    "metrics = {\n",
    "    'Acc ': Accuracy,\n",
    "    'GM  ': GM,\n",
    "    'kU  ': kappaU,\n",
    "    'MCC ': MCC,\n",
    "    'hF1 ': hF1,\n",
    "    'sF1 ': sF1\n",
    "}\n",
    "\n",
    "cm_0 = np.array([\n",
    "    [100, 20, 10],\n",
    "    [20, 100, 10],\n",
    "    [10, 20, 100]\n",
    "])\n",
    "\n",
    "cm_1 = np.array([\n",
    "    [100, 0, 30],\n",
    "    [30, 100, 0],\n",
    "    [30, 0, 100]\n",
    "])\n",
    "    \n",
    "cm_2 = np.array([\n",
    "    [130, 0, 0],\n",
    "    [0, 130, 0],\n",
    "    [90, 0, 40]\n",
    "])  \n",
    "\n",
    "plt.figure(figsize=(15,5))\n",
    "for i,cm in enumerate([cm_0, cm_1, cm_2]):\n",
    "    print(f\"ConfMat {i+1}\")\n",
    "    for metric in metrics:\n",
    "        print(metric, f'{metrics[metric](cm):.3f}')\n",
    "    plt.subplot(1, 3, i+1)\n",
    "    plt.imshow(cm, interpolation='none', cmap=plt.cm.coolwarm)\n",
    "    for i in range(cm.shape[0]):\n",
    "        for j in range(cm.shape[1]):\n",
    "            plt.text(j, i, f'{cm[i, j]}', ha=\"center\", va=\"center\", color=\"w\", fontsize='medium')\n",
    "        plt.xticks(range(cm.shape[1]))\n",
    "        plt.yticks(range(cm.shape[0]))\n",
    "        plt.title(f\"ConfMat {i+1}\")"
   ]
  }
 ],
 "metadata": {
  "kernelspec": {
   "display_name": "Python 3",
   "language": "python",
   "name": "python3"
  },
  "language_info": {
   "codemirror_mode": {
    "name": "ipython",
    "version": 3
   },
   "file_extension": ".py",
   "mimetype": "text/x-python",
   "name": "python",
   "nbconvert_exporter": "python",
   "pygments_lexer": "ipython3",
   "version": "3.7.10"
  }
 },
 "nbformat": 4,
 "nbformat_minor": 5
}
