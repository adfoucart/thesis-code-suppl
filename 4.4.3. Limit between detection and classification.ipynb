{
 "cells": [
  {
   "cell_type": "markdown",
   "id": "8eea2b3d",
   "metadata": {},
   "source": [
    "# 4.4.3. Limit between detection and classification\n",
    "\n",
    "Simulation based on synthetic data."
   ]
  },
  {
   "cell_type": "code",
   "execution_count": 20,
   "id": "fb77ba19",
   "metadata": {},
   "outputs": [],
   "source": [
    "import numpy as np\n",
    "from matplotlib import pyplot as plt\n",
    "%matplotlib inline\n",
    "\n",
    "from tqdm import tqdm"
   ]
  },
  {
   "cell_type": "code",
   "execution_count": 5,
   "id": "9882abdf",
   "metadata": {},
   "outputs": [],
   "source": [
    "from metrics.classification import MCC, SPEc\n",
    "from metrics.detection import precision, recall, f1, average_precision"
   ]
  },
  {
   "cell_type": "code",
   "execution_count": 17,
   "id": "dd68342d",
   "metadata": {},
   "outputs": [],
   "source": [
    "def _rand_clip(loc, scale=0.1):\n",
    "    return np.clip(np.random.normal(loc=loc, scale=scale), 0, 1)\n",
    "\n",
    "class Scenario:\n",
    "    def __init__(self, \n",
    "                trivial_false,\n",
    "                easy_false,\n",
    "                hard_false,\n",
    "                hard_true,\n",
    "                easy_true,\n",
    "                missed_true=0):\n",
    "        self.trivial_false = trivial_false\n",
    "        self.easy_false = easy_false\n",
    "        self.hard_false = hard_false\n",
    "        self.hard_true = hard_true\n",
    "        self.easy_true = easy_true\n",
    "        self.missed_true = missed_true\n",
    "    \n",
    "    def random_draw(self):\n",
    "        false_candidates = [0 for _ in range(self.trivial_false)] + \\\n",
    "                           [_rand_clip(0.1, 0.1) for _ in range(self.easy_false)] + \\\n",
    "                           [_rand_clip(0.45, 0.1) for _ in range(self.hard_false)]\n",
    "        true_candidates =  [_rand_clip(0.55, 0.1) for _ in range(self.hard_true)] + \\\n",
    "                           [_rand_clip(0.8, 0.05) for _ in range(self.easy_true)]\n",
    "        \n",
    "        gt = np.array([False for _ in false_candidates]+\n",
    "                           [True for _ in true_candidates]+\n",
    "                           [True for _ in range(self.missed_true)])\n",
    "        pred = np.array(\n",
    "                            [k for k in false_candidates] +\n",
    "                            [k for k in true_candidates] +\n",
    "                            [0 for _ in range(self.missed_true)]\n",
    "                            )\n",
    "        return gt, pred\n",
    "    \n",
    "SCENARIOS = {\n",
    "    \"Handpicked Hard\": Scenario(0, 200, 800, 500, 500),\n",
    "    \"Handpicked Easy\": Scenario(0, 800, 200, 500, 500),\n",
    "    \"Large selector\": Scenario(5000, 800, 800, 500, 500),\n",
    "    \"Targeted selector\": Scenario(50, 600, 800, 500, 500)\n",
    "}"
   ]
  },
  {
   "cell_type": "code",
   "execution_count": 21,
   "id": "94b33e63",
   "metadata": {},
   "outputs": [
    {
     "name": "stdout",
     "output_type": "stream",
     "text": [
      "Handpicked Hard\n"
     ]
    },
    {
     "name": "stderr",
     "output_type": "stream",
     "text": [
      "100%|█████████████████████████████████████████████████████████████████████████████████████████████████████████████████████████████████████████████████████████████████████████████████████████████████████| 500/500 [00:31<00:00, 15.78it/s]\n"
     ]
    },
    {
     "name": "stdout",
     "output_type": "stream",
     "text": [
      "REC=0.85 (std=0.010)\n",
      "PRE=0.77 (std=0.010)\n",
      "AP=0.92 (std=0.004)\n",
      "SPE=0.75 (std=0.013)\n",
      "MCC=0.60 (std=0.017)\n",
      "Handpicked Easy\n"
     ]
    },
    {
     "name": "stderr",
     "output_type": "stream",
     "text": [
      "100%|█████████████████████████████████████████████████████████████████████████████████████████████████████████████████████████████████████████████████████████████████████████████████████████████████████| 500/500 [00:31<00:00, 15.73it/s]\n"
     ]
    },
    {
     "name": "stdout",
     "output_type": "stream",
     "text": [
      "REC=0.85 (std=0.011)\n",
      "PRE=0.93 (std=0.007)\n",
      "AP=0.98 (std=0.002)\n",
      "SPE=0.94 (std=0.006)\n",
      "MCC=0.79 (std=0.012)\n",
      "Large selector\n"
     ]
    },
    {
     "name": "stderr",
     "output_type": "stream",
     "text": [
      "100%|█████████████████████████████████████████████████████████████████████████████████████████████████████████████████████████████████████████████████████████████████████████████████████████████████████| 500/500 [00:50<00:00,  9.93it/s]\n"
     ]
    },
    {
     "name": "stdout",
     "output_type": "stream",
     "text": [
      "REC=0.85 (std=0.010)\n",
      "PRE=0.77 (std=0.009)\n",
      "AP=0.92 (std=0.004)\n",
      "SPE=0.96 (std=0.002)\n",
      "MCC=0.78 (std=0.009)\n",
      "Targeted selector\n"
     ]
    },
    {
     "name": "stderr",
     "output_type": "stream",
     "text": [
      "100%|█████████████████████████████████████████████████████████████████████████████████████████████████████████████████████████████████████████████████████████████████████████████████████████████████████| 500/500 [00:37<00:00, 13.29it/s]"
     ]
    },
    {
     "name": "stdout",
     "output_type": "stream",
     "text": [
      "REC=0.85 (std=0.011)\n",
      "PRE=0.77 (std=0.010)\n",
      "AP=0.92 (std=0.004)\n",
      "SPE=0.83 (std=0.009)\n",
      "MCC=0.67 (std=0.014)\n"
     ]
    },
    {
     "name": "stderr",
     "output_type": "stream",
     "text": [
      "\n"
     ]
    }
   ],
   "source": [
    "n_exp = 500\n",
    "\n",
    "for sname, scenario in SCENARIOS.items():\n",
    "    recs = []\n",
    "    precs = []\n",
    "    aps = []\n",
    "    specs = []\n",
    "    mccs = []\n",
    "    \n",
    "    print(sname)\n",
    "    for _ in tqdm(range(n_exp)):\n",
    "        # Compute single-threshold metrics\n",
    "        gt, pred = scenario.random_draw()\n",
    "        tp = (gt*(pred>=0.5)).sum()\n",
    "        fp = ((gt==False)*(pred>=0.5)).sum()\n",
    "        fn = (gt*(pred<0.5)).sum()\n",
    "        tn = ((gt==False)*(pred<0.5)).sum()\n",
    "        cm = np.array([\n",
    "            [tn, fp],\n",
    "            [fn, tp]\n",
    "        ])\n",
    "        ap, _ = average_precision(gt, pred)\n",
    "        recs.append(recall(tp, fp, fn))\n",
    "        precs.append(precision(tp, fp, fn))\n",
    "        aps.append(ap)\n",
    "        specs.append(SPEc(cm, 1))\n",
    "        mccs.append(MCC(cm))\n",
    "    \n",
    "    print(f\"REC={np.mean(recs):.2f} (std={np.std(recs):.3f})\")\n",
    "    print(f\"PRE={np.mean(precs):.2f} (std={np.std(precs):.3f})\")\n",
    "    print(f\"AP={np.mean(aps):.2f} (std={np.std(aps):.3f})\")\n",
    "    print(f\"SPE={np.mean(specs):.2f} (std={np.std(specs):.3f})\")\n",
    "    print(f\"MCC={np.mean(mccs):.2f} (std={np.std(mccs):.3f})\")"
   ]
  }
 ],
 "metadata": {
  "kernelspec": {
   "display_name": "Python 3",
   "language": "python",
   "name": "python3"
  },
  "language_info": {
   "codemirror_mode": {
    "name": "ipython",
    "version": 3
   },
   "file_extension": ".py",
   "mimetype": "text/x-python",
   "name": "python",
   "nbconvert_exporter": "python",
   "pygments_lexer": "ipython3",
   "version": "3.7.10"
  }
 },
 "nbformat": 4,
 "nbformat_minor": 5
}
