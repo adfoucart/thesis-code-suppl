{
 "cells": [
  {
   "cell_type": "markdown",
   "id": "8e644337",
   "metadata": {},
   "source": [
    "# 4.4.1. Foreground-Background imbalance in detection metrics\n",
    "\n",
    "Simulation of four different imbalance scenarios based on the MITOS12 class distribution, for a classifier with fixed performances:\n",
    "* Candidate selection step: 99.99% specificity, 100% sensitivity\n",
    "* Candidate classifier: 99% specificity, 75% sensitivity"
   ]
  },
  {
   "cell_type": "code",
   "execution_count": 1,
   "id": "4fd85fe5",
   "metadata": {},
   "outputs": [],
   "source": [
    "import numpy as np\n",
    "from matplotlib import pyplot as plt\n",
    "%matplotlib inline"
   ]
  },
  {
   "cell_type": "code",
   "execution_count": 2,
   "id": "661e6caf",
   "metadata": {},
   "outputs": [],
   "source": [
    "from metrics.detection import precision, recall, f1\n",
    "from datasets.mitos12 import get_file_names, get_mitosis_per_file, get_total_candidate_area, PX_SIZE"
   ]
  },
  {
   "cell_type": "markdown",
   "id": "5938ff09",
   "metadata": {},
   "source": [
    "**Compute characteristics of the dataset**"
   ]
  },
  {
   "cell_type": "code",
   "execution_count": 3,
   "id": "a9eb3497",
   "metadata": {},
   "outputs": [
    {
     "name": "stdout",
     "output_type": "stream",
     "text": [
      "TRAINING SET:\n",
      "Number of mitosis: 226\n",
      "Mitosis area: 135366 (px), 8165.19 (µm²)\n",
      "Total area: 146800640 (px), 8854920.65 (µm²)\n",
      "Mitosis ratio: 0.0922%\n",
      "Avg mitosis area: 598.96 (px)\n",
      "TEST SET:\n",
      "Number of mitosis: 101\n",
      "Mitosis area: 57193 (px²), 3449.85 (µm²)\n",
      "Total area: 62914560 (px²), 3794965.99 (µm²)\n",
      "Mitosis ratio: 0.0909%\n",
      "Avg mitosis area: 566.27 (px)\n"
     ]
    }
   ],
   "source": [
    "print(\"TRAINING SET:\")\n",
    "files = get_file_names()\n",
    "mitosis_per_file = get_mitosis_per_file(files)\n",
    "\n",
    "n_mitosis = sum([len(mitosis) for mitosis in mitosis_per_file.values()])\n",
    "print(f\"Number of mitosis: {n_mitosis}\")\n",
    "\n",
    "mitosis_area = 0\n",
    "for mitosis in mitosis_per_file.values():\n",
    "    for m in mitosis:\n",
    "        mitosis_area += m.area\n",
    "print(f\"Mitosis area: {mitosis_area} (px), {mitosis_area*PX_SIZE*PX_SIZE:.2f} (µm²)\")\n",
    "\n",
    "total_area = get_total_candidate_area(files)\n",
    "print(f\"Total area: {total_area} (px), {total_area*PX_SIZE*PX_SIZE:.2f} (µm²)\")\n",
    "\n",
    "print(f\"Mitosis ratio: {100*mitosis_area/total_area:.4f}%\")\n",
    "\n",
    "print(f\"Avg mitosis area: {mitosis_area/n_mitosis:.2f} (px)\")\n",
    "\n",
    "print(\"TEST SET:\")\n",
    "files = get_file_names(train=False)\n",
    "mitosis_per_file = get_mitosis_per_file(files, train=False)\n",
    "\n",
    "n_mitosis = sum([len(mitosis) for mitosis in mitosis_per_file.values()])\n",
    "print(f\"Number of mitosis: {n_mitosis}\")\n",
    "\n",
    "mitosis_area = 0\n",
    "for mitosis in mitosis_per_file.values():\n",
    "    for m in mitosis:\n",
    "        mitosis_area += m.area\n",
    "print(f\"Mitosis area: {mitosis_area} (px²), {mitosis_area*PX_SIZE*PX_SIZE:.2f} (µm²)\")\n",
    "\n",
    "total_area = get_total_candidate_area(files)\n",
    "print(f\"Total area: {total_area} (px²), {total_area*PX_SIZE*PX_SIZE:.2f} (µm²)\")\n",
    "\n",
    "print(f\"Mitosis ratio: {100*mitosis_area/total_area:.4f}%\")\n",
    "\n",
    "print(f\"Avg mitosis area: {mitosis_area/n_mitosis:.2f} (px)\")"
   ]
  },
  {
   "cell_type": "markdown",
   "id": "e1efc8fd",
   "metadata": {},
   "source": [
    "**Scenarios**"
   ]
  },
  {
   "cell_type": "code",
   "execution_count": 4,
   "id": "0e033fdc",
   "metadata": {},
   "outputs": [
    {
     "name": "stdout",
     "output_type": "stream",
     "text": [
      "MITOS12 distribution\n",
      "Precision: 0.55\n",
      "Recall: 0.75\n",
      "F1: 0.63\n",
      "===============\n",
      "Smaller region\n",
      "Precision: 0.64\n",
      "Recall: 0.75\n",
      "F1: 0.69\n",
      "===============\n",
      "Larger region\n",
      "Precision: 0.47\n",
      "Recall: 0.75\n",
      "F1: 0.58\n",
      "===============\n",
      "MITOS-ATYPIA-14 distribution\n",
      "Precision: 0.18\n",
      "Recall: 0.75\n",
      "F1: 0.29\n",
      "===============\n"
     ]
    }
   ],
   "source": [
    "# Detector performances simulation:\n",
    "from datasets.mitos12 import detector_simulator\n",
    "from metrics.detection import precision, recall, f1\n",
    "\n",
    "SEN = 0.75\n",
    "SPE = 0.99\n",
    "selector_SPE = 0.9999\n",
    "\n",
    "SCENARIOS = {\n",
    "    \"MITOS12 distribution\":\n",
    "        {'n_mitosis': n_mitosis,\n",
    "         'n_nonmitosis': total_area-mitosis_area},\n",
    "    \"Smaller region\":\n",
    "        {'n_mitosis': 0.75*n_mitosis,\n",
    "         'n_nonmitosis': 0.5*total_area - 0.75*mitosis_area},\n",
    "    \"Larger region\":\n",
    "        {'n_mitosis': 1.5*n_mitosis,\n",
    "         'n_nonmitosis': 2*total_area-1.5*mitosis_area},\n",
    "    \"MITOS-ATYPIA-14 distribution\":\n",
    "        {'n_mitosis': 749,\n",
    "         'n_nonmitosis': 2541196800-441910}\n",
    "}\n",
    "\n",
    "for scenario, values in SCENARIOS.items():\n",
    "    print(scenario)\n",
    "    tp, fp, fn, tn = detector_simulator(values[\"n_mitosis\"], \n",
    "                                        values[\"n_nonmitosis\"], \n",
    "                                        sensitivity=SEN,\n",
    "                                        specificity=SPE,\n",
    "                                        pre_detector_specificity=selector_SPE)\n",
    "    print(f\"Precision: {precision(tp, fp, fn):.2f}\")\n",
    "    print(f\"Recall: {recall(tp, fp, fn):.2f}\")\n",
    "    print(f\"F1: {f1(tp, fp, fn):.2f}\")\n",
    "    print(\"===============\")"
   ]
  }
 ],
 "metadata": {
  "kernelspec": {
   "display_name": "Python 3",
   "language": "python",
   "name": "python3"
  },
  "language_info": {
   "codemirror_mode": {
    "name": "ipython",
    "version": 3
   },
   "file_extension": ".py",
   "mimetype": "text/x-python",
   "name": "python",
   "nbconvert_exporter": "python",
   "pygments_lexer": "ipython3",
   "version": "3.7.10"
  }
 },
 "nbformat": 4,
 "nbformat_minor": 5
}
