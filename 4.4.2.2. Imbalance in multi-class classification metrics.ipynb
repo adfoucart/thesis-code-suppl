{
 "cells": [
  {
   "cell_type": "markdown",
   "id": "be75dcf4",
   "metadata": {},
   "source": [
    "# 4.4.2.2. Imbalance in multi-class classification metrics\n",
    "\n",
    "Extension of Luque et al.'s analysis to multi-class problems."
   ]
  },
  {
   "cell_type": "code",
   "execution_count": 1,
   "id": "f8a800fe",
   "metadata": {},
   "outputs": [],
   "source": [
    "import numpy as np\n",
    "from matplotlib import pyplot as plt\n",
    "%matplotlib inline\n",
    "\n",
    "from metrics.unbalance import cm_multiclass_ed, cm_multiclass_rd, cm_multiclass_bo, get_distributed_proportions, rescale_metric, perclass\n",
    "from metrics.classification import kappaU, kappaL, kappaQ, MCC, Accuracy, sF1, hF1, GM\n",
    "from functools import partial"
   ]
  },
  {
   "cell_type": "code",
   "execution_count": 2,
   "id": "464d3847",
   "metadata": {},
   "outputs": [],
   "source": [
    "mc_metrics = {\n",
    "    'kUn': partial(rescale_metric, kappaU), \n",
    "    'kLn': partial(rescale_metric, kappaL), \n",
    "    'kQn': partial(rescale_metric, kappaQ),\n",
    "    'MCCn': partial(rescale_metric, MCC), \n",
    "    'Acc': Accuracy, \n",
    "    'hF1': hF1, \n",
    "    'sF1': sF1, \n",
    "    'GM': GM \n",
    "}"
   ]
  },
  {
   "cell_type": "markdown",
   "id": "1191ac03",
   "metadata": {},
   "source": [
    "**Class distributions in a 4-class problem**"
   ]
  },
  {
   "cell_type": "code",
   "execution_count": 3,
   "id": "0ca1e778",
   "metadata": {},
   "outputs": [
    {
     "data": {
      "image/png": "[encoded data removed]",
      "text/plain": [
       "<Figure size 1080x360 with 4 Axes>"
      ]
     },
     "metadata": {
      "needs_background": "light"
     },
     "output_type": "display_data"
    }
   ],
   "source": [
    "plt.figure(figsize=(15,5))\n",
    "for i,beta in enumerate([0, 0.25, 0.5, 1.]):\n",
    "    plt.subplot(1,4,i+1)\n",
    "    plt.bar(range(4), get_distributed_proportions(4, beta))\n",
    "    plt.ylim([0, 1.1])\n",
    "    plt.title(f'beta={beta}')\n",
    "plt.show()"
   ]
  },
  {
   "cell_type": "markdown",
   "id": "eb78b76b",
   "metadata": {},
   "source": [
    "**Error distributions in a 3- or 4-class problem**\n",
    "\n",
    "Scenarios:\n",
    "\n",
    "* ED = \"evenly distributed error\"\n",
    "* RD = \"randomly distributed error\"\n",
    "* MB = \"majority bias error\""
   ]
  },
  {
   "cell_type": "markdown",
   "id": "c4e33f13",
   "metadata": {},
   "source": [
    "**Confusion matrices for the 4-class problem in the 3 scenarios**"
   ]
  },
  {
   "cell_type": "code",
   "execution_count": 4,
   "id": "14b7e813",
   "metadata": {},
   "outputs": [
    {
     "data": {
      "image/png": "[encoded data removed]",
      "text/plain": [
       "<Figure size 1080x360 with 3 Axes>"
      ]
     },
     "metadata": {
      "needs_background": "light"
     },
     "output_type": "display_data"
    }
   ],
   "source": [
    "m = 4\n",
    "scenarios = {\n",
    "    'ED': cm_multiclass_ed,\n",
    "    'RD': cm_multiclass_rd,\n",
    "    'MB': cm_multiclass_bo\n",
    "}\n",
    "\n",
    "plt.figure(figsize=(15,5))\n",
    "for ids, (key, get_cm) in enumerate(scenarios.items()):\n",
    "    cm = get_cm(m, np.array([0.8, 0.6, 0.7, 0.9]), 0.8)\n",
    "    plt.subplot(1, 3, ids+1)\n",
    "    plt.imshow(cm, interpolation='none', cmap=plt.cm.coolwarm, vmin=0, vmax=1)\n",
    "    for i in range(m):\n",
    "        for j in range(m):\n",
    "            color = 'k' if cm[i, j] > 0.5 else 'w'\n",
    "            text = plt.text(j, i, f'{cm[i, j]:.3f}', ha=\"center\", va=\"center\", color=color, fontsize='medium')\n",
    "    plt.xticks(range(m))\n",
    "    plt.yticks(range(m))\n",
    "    plt.title(key)\n",
    "plt.show()"
   ]
  },
  {
   "cell_type": "markdown",
   "id": "6fae9b3a",
   "metadata": {},
   "source": [
    "**3-classes range of bias**"
   ]
  },
  {
   "cell_type": "code",
   "execution_count": 5,
   "id": "06910fe2",
   "metadata": {},
   "outputs": [],
   "source": [
    "m = 3\n",
    "betas = [0, 0.5, 0.99]\n",
    "sen_0 = np.array([0.01, 0.1, 0.2, 0.3, 0.4, 0.5, 0.6, 0.7, 0.8, 0.9, 0.99])\n",
    "sen_1 = np.array([0.01, 0.1, 0.2, 0.3, 0.4, 0.5, 0.6, 0.7, 0.8, 0.9, 0.99])\n",
    "sen_2 = np.array([0.01, 0.1, 0.2, 0.3, 0.4, 0.5, 0.6, 0.7, 0.8, 0.9, 0.99])"
   ]
  },
  {
   "cell_type": "code",
   "execution_count": null,
   "id": "307918bf",
   "metadata": {},
   "outputs": [],
   "source": [
    "all_results = {}\n",
    "for scenario in scenarios:\n",
    "    all_results[scenario] = {}\n",
    "    for metric_name in mc_metrics:\n",
    "        all_results[scenario][metric_name] = np.zeros((len(betas), len(sen_0), len(sen_1), len(sen_2)))\n",
    "\n",
    "for idb,beta in enumerate(betas):\n",
    "    for ids0, s0 in enumerate(sen_0):\n",
    "        for ids1, s1 in enumerate(sen_1):\n",
    "            for ids2, s2 in enumerate(sen_2):\n",
    "                for scenario, get_cm in scenarios.items():\n",
    "                    cm = get_cm(m, np.array([s0, s1, s2]), beta)\n",
    "                    for key, metric in mc_metrics.items():\n",
    "                        all_results[scenario][key][idb,ids0,ids1,ids2] = metric(cm)"
   ]
  },
  {
   "cell_type": "code",
   "execution_count": null,
   "id": "fae85692",
   "metadata": {},
   "outputs": [],
   "source": [
    "# Save for reuse\n",
    "import pickle\n",
    "with open('./data/mc_metrics_results_3classes.pkl', 'wb') as fp:\n",
    "   pickle.dump(all_results, fp)"
   ]
  },
  {
   "cell_type": "code",
   "execution_count": 6,
   "id": "b4ccfafa",
   "metadata": {},
   "outputs": [],
   "source": [
    "# Load for reuse\n",
    "import pickle\n",
    "with open('./data/mc_metrics_results_3classes.pkl', 'rb') as fp:\n",
    "    all_results = pickle.load(fp)"
   ]
  },
  {
   "cell_type": "code",
   "execution_count": 7,
   "id": "76ea0564",
   "metadata": {},
   "outputs": [
    {
     "name": "stdout",
     "output_type": "stream",
     "text": [
      "==== ED ====\n",
      "kUn\n",
      "[-0.42, 0.24]\n",
      "kLn\n",
      "[-0.43, 0.24]\n",
      "kQn\n",
      "[-0.44, 0.32]\n",
      "MCCn\n",
      "[-0.36, 0.20]\n",
      "Acc\n",
      "[-0.65, 0.65]\n",
      "hF1\n",
      "[-0.42, 0.10]\n",
      "sF1\n",
      "[-0.42, 0.16]\n",
      "GM\n",
      "[-0.00, 0.00]\n",
      "----------\n",
      "==== RD ====\n",
      "kUn\n",
      "[-0.42, 0.24]\n",
      "kLn\n",
      "[-0.43, 0.22]\n",
      "kQn\n",
      "[-0.44, 0.27]\n",
      "MCCn\n",
      "[-0.37, 0.21]\n",
      "Acc\n",
      "[-0.65, 0.65]\n",
      "hF1\n",
      "[-0.43, 0.11]\n",
      "sF1\n",
      "[-0.42, 0.14]\n",
      "GM\n",
      "[-0.00, 0.00]\n",
      "----------\n",
      "==== MB ====\n",
      "kUn\n",
      "[-0.42, 0.24]\n",
      "kLn\n",
      "[-0.41, 0.24]\n",
      "kQn\n",
      "[-0.41, 0.32]\n",
      "MCCn\n",
      "[-0.37, 0.13]\n",
      "Acc\n",
      "[-0.65, 0.65]\n",
      "hF1\n",
      "[-0.42, 0.10]\n",
      "sF1\n",
      "[-0.44, 0.16]\n",
      "GM\n",
      "[-0.00, 0.00]\n",
      "----------\n"
     ]
    }
   ],
   "source": [
    "for scenario in scenarios:\n",
    "    print(f'==== {scenario} ====')\n",
    "    for key in mc_metrics:\n",
    "        print(key)\n",
    "        min_ = 0\n",
    "        max_ = 0\n",
    "        bal = all_results[scenario][key][0]\n",
    "        for i_b, beta in enumerate(betas[1:]):\n",
    "            bias = all_results[scenario][key][i_b+1]-bal\n",
    "            min_ = min(min_, bias.min())\n",
    "            max_ = max(max_, bias.max())\n",
    "        print(f'[{min_:.2f}, {max_:.2f}]')\n",
    "    print('----------')"
   ]
  },
  {
   "cell_type": "markdown",
   "id": "93869f47",
   "metadata": {},
   "source": [
    "**4-classes ranges of bias**"
   ]
  },
  {
   "cell_type": "code",
   "execution_count": null,
   "id": "5cb30f55",
   "metadata": {},
   "outputs": [],
   "source": [
    "m = 4\n",
    "betas = [0., 0.5, 0.99]\n",
    "sen_0 = np.array([0.01, 0.1, 0.2, 0.3, 0.4, 0.5, 0.6, 0.7, 0.8, 0.9, 0.99])\n",
    "sen_1 = np.array([0.01, 0.1, 0.2, 0.3, 0.4, 0.5, 0.6, 0.7, 0.8, 0.9, 0.99])\n",
    "sen_2 = np.array([0.01, 0.1, 0.2, 0.3, 0.4, 0.5, 0.6, 0.7, 0.8, 0.9, 0.99])\n",
    "sen_3 = np.array([0.01, 0.1, 0.2, 0.3, 0.4, 0.5, 0.6, 0.7, 0.8, 0.9, 0.99])\n",
    "\n",
    "all_results = {}\n",
    "for scenario in scenarios:\n",
    "    all_results[scenario] = {}\n",
    "    for metric_name in mc_metrics:\n",
    "        all_results[scenario][metric_name] = np.zeros((len(betas), len(sen_0), len(sen_1), len(sen_2), len(sen_3)))\n",
    "\n",
    "for idb,beta in enumerate(betas):\n",
    "    for ids0, s0 in enumerate(sen_0):\n",
    "        for ids1, s1 in enumerate(sen_1):\n",
    "            for ids2, s2 in enumerate(sen_2):\n",
    "                for ids3, s3 in enumerate(sen_3):\n",
    "                    for scenario, get_cm in scenarios.items():\n",
    "                        cm = get_cm(m, np.array([s0, s1, s2, s3]), beta)\n",
    "                        for key, metric in mc_metrics.items():\n",
    "                            all_results[scenario][key][idb,ids0,ids1,ids2,ids3] = metric(cm)"
   ]
  },
  {
   "cell_type": "code",
   "execution_count": null,
   "id": "2f1b459d",
   "metadata": {},
   "outputs": [],
   "source": [
    "# Save for reuse\n",
    "import pickle\n",
    "with open('./data/mc_metrics_results_4classes.pkl', 'wb') as fp:\n",
    "   pickle.dump(all_results, fp)"
   ]
  },
  {
   "cell_type": "code",
   "execution_count": 8,
   "id": "8ed082c2",
   "metadata": {},
   "outputs": [],
   "source": [
    "# Load for reuse\n",
    "import pickle\n",
    "with open('./data/mc_metrics_results_3classes.pkl', 'rb') as fp:\n",
    "    all_results = pickle.load(fp)"
   ]
  },
  {
   "cell_type": "code",
   "execution_count": 9,
   "id": "430d0ac7",
   "metadata": {},
   "outputs": [
    {
     "name": "stdout",
     "output_type": "stream",
     "text": [
      "==== ED ====\n",
      "kUn\n",
      "[-0.42, 0.24]\n",
      "kLn\n",
      "[-0.43, 0.24]\n",
      "kQn\n",
      "[-0.44, 0.32]\n",
      "MCCn\n",
      "[-0.36, 0.20]\n",
      "Acc\n",
      "[-0.65, 0.65]\n",
      "hF1\n",
      "[-0.42, 0.10]\n",
      "sF1\n",
      "[-0.42, 0.16]\n",
      "GM\n",
      "[-0.00, 0.00]\n",
      "----------\n",
      "==== RD ====\n",
      "kUn\n",
      "[-0.42, 0.24]\n",
      "kLn\n",
      "[-0.43, 0.22]\n",
      "kQn\n",
      "[-0.44, 0.27]\n",
      "MCCn\n",
      "[-0.37, 0.21]\n",
      "Acc\n",
      "[-0.65, 0.65]\n",
      "hF1\n",
      "[-0.43, 0.11]\n",
      "sF1\n",
      "[-0.42, 0.14]\n",
      "GM\n",
      "[-0.00, 0.00]\n",
      "----------\n",
      "==== MB ====\n",
      "kUn\n",
      "[-0.42, 0.24]\n",
      "kLn\n",
      "[-0.41, 0.24]\n",
      "kQn\n",
      "[-0.41, 0.32]\n",
      "MCCn\n",
      "[-0.37, 0.13]\n",
      "Acc\n",
      "[-0.65, 0.65]\n",
      "hF1\n",
      "[-0.42, 0.10]\n",
      "sF1\n",
      "[-0.44, 0.16]\n",
      "GM\n",
      "[-0.00, 0.00]\n",
      "----------\n"
     ]
    }
   ],
   "source": [
    "for scenario in scenarios:\n",
    "    print(f'==== {scenario} ====')\n",
    "    for key in mc_metrics:\n",
    "        print(key)\n",
    "        min_ = 0\n",
    "        max_ = 0\n",
    "        bal = all_results[scenario][key][0]\n",
    "        for i_b, beta in enumerate(betas[1:]):\n",
    "            bias = all_results[scenario][key][i_b+1]-bal\n",
    "            min_ = min(min_, bias.min())\n",
    "            max_ = max(max_, bias.max())\n",
    "        print(f'[{min_:.2f}, {max_:.2f}]')\n",
    "    print('----------')"
   ]
  }
 ],
 "metadata": {
  "kernelspec": {
   "display_name": "Python 3",
   "language": "python",
   "name": "python3"
  },
  "language_info": {
   "codemirror_mode": {
    "name": "ipython",
    "version": 3
   },
   "file_extension": ".py",
   "mimetype": "text/x-python",
   "name": "python",
   "nbconvert_exporter": "python",
   "pygments_lexer": "ipython3",
   "version": "3.7.10"
  }
 },
 "nbformat": 4,
 "nbformat_minor": 5
}
