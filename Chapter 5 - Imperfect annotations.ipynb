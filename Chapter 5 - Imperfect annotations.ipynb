{
 "cells": [
  {
   "cell_type": "markdown",
   "id": "christian-driving",
   "metadata": {},
   "source": [
    "# Chapter 5 - imperfect annotations"
   ]
  },
  {
   "cell_type": "markdown",
   "id": "disabled-truth",
   "metadata": {},
   "source": [
    "Most of the code used in the initial SNOW experiments are available on GitHub here: [https://github.com/adfoucart/deephisto](https://github.com/adfoucart/deephisto), as well as in the [SNOW scripts](./SNOW_scripts) folder.\n",
    "\n",
    "Raw per-image results to recompute the tables can be found in the [SNOW_results](./SNOW_results) folder."
   ]
  },
  {
   "cell_type": "markdown",
   "id": "blond-minute",
   "metadata": {},
   "source": [
    "## GlaS results"
   ]
  },
  {
   "cell_type": "code",
   "execution_count": 1,
   "id": "131f6322",
   "metadata": {},
   "outputs": [],
   "source": [
    "from metrics.snow_analysis import compute_stat_score, print_result_table, get_glas_results_tables\n",
    "\n",
    "dsc, mcc = get_glas_results_tables('./SNOW_results/glas_scores.json')\n",
    "dsc_points = compute_stat_score(dsc)\n",
    "mcc_points = compute_stat_score(mcc)"
   ]
  },
  {
   "cell_type": "markdown",
   "id": "5da472c0",
   "metadata": {},
   "source": [
    "**DSC**"
   ]
  },
  {
   "cell_type": "code",
   "execution_count": 2,
   "id": "4a317570",
   "metadata": {},
   "outputs": [
    {
     "name": "stdout",
     "output_type": "stream",
     "text": [
      "Average DSC\n",
      "\tORI\tNOI\tBB\tNBB\tNHD\n",
      "BASE\t0.841\t0.231\t0.724\t0.511\t0.212\n",
      "OP\t0.836\t0.768\t0.730\t0.697\t0.660\n",
      "SS\t0.831\t0.467\t0.756\t0.522\t0.207\n",
      "SSP\t0.819\t0.729\t0.740\t0.730\t0.428\n",
      "GA100\t0.837\t0.764\t0.755\t0.700\t0.621\n",
      "GA75\t0.843\t0.736\t0.754\t0.695\t0.608\n",
      "LA\t0.837\t0.575\t0.761\t0.631\t0.449\n",
      "Statistical score\n",
      "\tORI\tNOI\tBB\tNBB\tNHD\n",
      "BASE\t2\t-6\t-6\t-5\t-5\n",
      "OP\t1\t3\t0\t3\t4\n",
      "SS\t-2\t-3\t1\t-4\t-5\n",
      "SSP\t-5\t2\t0\t4\t-1\n",
      "GA100\t0\t4\t1\t3\t4\n",
      "GA75\t3\t3\t1\t2\t4\n",
      "LA\t1\t-3\t3\t-3\t-1\n"
     ]
    }
   ],
   "source": [
    "print_result_table(dsc.mean(axis=2).T, \"Average DSC\", 'glas')\n",
    "print_result_table(dsc_points.astype('int'), \"Statistical score\", 'glas')"
   ]
  },
  {
   "cell_type": "markdown",
   "id": "6b691ba0",
   "metadata": {},
   "source": [
    "**MCC**"
   ]
  },
  {
   "cell_type": "code",
   "execution_count": 3,
   "id": "59e45fee",
   "metadata": {},
   "outputs": [
    {
     "name": "stdout",
     "output_type": "stream",
     "text": [
      "Average MCC\n",
      "\tORI\tNOI\tBB\tNBB\tNHD\n",
      "BASE\t0.683\t0.231\t0.355\t0.328\t0.200\n",
      "OP\t0.668\t0.577\t0.409\t0.450\t0.012\n",
      "SS\t0.664\t0.372\t0.474\t0.347\t0.186\n",
      "SSP\t0.647\t0.537\t0.413\t0.487\t0.070\n",
      "GA100\t0.664\t0.588\t0.455\t0.413\t0.438\n",
      "GA75\t0.687\t0.573\t0.453\t0.410\t0.433\n",
      "LA\t0.674\t0.450\t0.488\t0.337\t0.322\n",
      "Statistical score\n",
      "\tORI\tNOI\tBB\tNBB\tNHD\n",
      "BASE\t2\t-6\t-6\t-4\t-2\n",
      "OP\t1\t3\t-1\t2\t-5\n",
      "SS\t-2\t-3\t3\t-4\t-2\n",
      "SSP\t-4\t3\t-1\t6\t-3\n",
      "GA100\t-1\t3\t1\t2\t5\n",
      "GA75\t3\t3\t1\t2\t5\n",
      "LA\t1\t-3\t3\t-4\t2\n"
     ]
    }
   ],
   "source": [
    "print_result_table(mcc.mean(axis=2).T, \"Average MCC\", 'glas')\n",
    "print_result_table(mcc_points.astype('int'), \"Statistical score\", 'glas')"
   ]
  },
  {
   "cell_type": "markdown",
   "id": "86a44777",
   "metadata": {},
   "source": [
    "## Epithelium results"
   ]
  },
  {
   "cell_type": "code",
   "execution_count": 4,
   "id": "2dadcc3b",
   "metadata": {},
   "outputs": [],
   "source": [
    "from metrics.snow_analysis import get_epithelium_results_tables\n",
    "\n",
    "dsc, mcc = get_epithelium_results_tables('./SNOW_results/epithelium_scores.json')"
   ]
  },
  {
   "cell_type": "markdown",
   "id": "dd08b1a5",
   "metadata": {},
   "source": [
    "### ShortRes"
   ]
  },
  {
   "cell_type": "code",
   "execution_count": 5,
   "id": "885f0aee",
   "metadata": {},
   "outputs": [],
   "source": [
    "shortres_dsc_points = compute_stat_score(dsc[0])\n",
    "shortres_mcc_points = compute_stat_score(mcc[0])"
   ]
  },
  {
   "cell_type": "code",
   "execution_count": 7,
   "id": "e5e6fc50",
   "metadata": {},
   "outputs": [
    {
     "name": "stdout",
     "output_type": "stream",
     "text": [
      "Average DSC\n",
      "\tORI\tNOI\tDEF\n",
      "BASE\t0.853\t0.545\t0.811\n",
      "OP\t0.848\t0.730\t0.808\n",
      "GA100\t0.848\t0.671\t0.809\n",
      "LA\t0.837\t0.577\t0.808\n",
      "SSP\t0.853\t0.788\t0.815\n",
      "Statistical score\n",
      "\tORI\tNOI\tDEF\n",
      "BASE\t0\t-2\t0\n",
      "OP\t0\t1\t0\n",
      "GA100\t0\t0\t0\n",
      "LA\t0\t-1\t0\n",
      "SSP\t0\t2\t0\n"
     ]
    }
   ],
   "source": [
    "print_result_table(dsc[0].mean(axis=2).T, \"Average DSC\", 'epithelium')\n",
    "print_result_table(shortres_dsc_points.astype('int'), \"Statistical score\", 'epithelium')"
   ]
  },
  {
   "cell_type": "code",
   "execution_count": 8,
   "id": "73703858",
   "metadata": {},
   "outputs": [
    {
     "name": "stdout",
     "output_type": "stream",
     "text": [
      "Average MCC\n",
      "\tORI\tNOI\tDEF\n",
      "BASE\t0.781\t0.466\t0.717\n",
      "OP\t0.767\t0.646\t0.714\n",
      "GA100\t0.770\t0.595\t0.717\n",
      "LA\t0.777\t0.498\t0.733\n",
      "SSP\t0.778\t0.718\t0.747\n",
      "Statistical score\n",
      "\tORI\tNOI\tDEF\n",
      "BASE\t0\t-2\t0\n",
      "OP\t0\t1\t0\n",
      "GA100\t0\t0\t0\n",
      "LA\t0\t-1\t0\n",
      "SSP\t0\t2\t0\n"
     ]
    }
   ],
   "source": [
    "print_result_table(mcc[0].mean(axis=2).T, \"Average MCC\", 'epithelium')\n",
    "print_result_table(shortres_mcc_points.astype('int'), \"Statistical score\", 'epithelium')"
   ]
  },
  {
   "cell_type": "markdown",
   "id": "06633ee4",
   "metadata": {},
   "source": [
    "### PAN"
   ]
  },
  {
   "cell_type": "code",
   "execution_count": 9,
   "id": "eae1372f",
   "metadata": {},
   "outputs": [],
   "source": [
    "pan_dsc_points = compute_stat_score(dsc[1])\n",
    "pan_mcc_points = compute_stat_score(mcc[1])"
   ]
  },
  {
   "cell_type": "code",
   "execution_count": 10,
   "id": "b9575788",
   "metadata": {},
   "outputs": [
    {
     "name": "stdout",
     "output_type": "stream",
     "text": [
      "Average DSC\n",
      "\tORI\tNOI\tDEF\n",
      "BASE\t0.860\t0.639\t0.828\n",
      "OP\t0.857\t0.762\t0.826\n",
      "GA100\t0.861\t0.681\t0.826\n",
      "LA\t0.858\t0.648\t0.814\n",
      "SSP\t0.853\t0.768\t0.788\n",
      "Statistical score\n",
      "\tORI\tNOI\tDEF\n",
      "BASE\t0\t-2\t0\n",
      "OP\t0\t2\t0\n",
      "GA100\t0\t0\t0\n",
      "LA\t0\t-2\t0\n",
      "SSP\t0\t2\t0\n"
     ]
    }
   ],
   "source": [
    "print_result_table(dsc[1].mean(axis=2).T, \"Average DSC\", 'epithelium')\n",
    "print_result_table(pan_dsc_points.astype('int'), \"Statistical score\", 'epithelium')"
   ]
  },
  {
   "cell_type": "code",
   "execution_count": 11,
   "id": "2591ac95",
   "metadata": {},
   "outputs": [
    {
     "name": "stdout",
     "output_type": "stream",
     "text": [
      "Average MCC\n",
      "\tORI\tNOI\tDEF\n",
      "BASE\t0.786\t0.559\t0.746\n",
      "OP\t0.783\t0.685\t0.746\n",
      "GA100\t0.788\t0.606\t0.744\n",
      "LA\t0.785\t0.572\t0.731\n",
      "SSP\t0.774\t0.684\t0.740\n",
      "Statistical score\n",
      "\tORI\tNOI\tDEF\n",
      "BASE\t0\t-2\t0\n",
      "OP\t0\t2\t0\n",
      "GA100\t0\t0\t0\n",
      "LA\t0\t-2\t0\n",
      "SSP\t0\t2\t0\n"
     ]
    }
   ],
   "source": [
    "print_result_table(mcc[1].mean(axis=2).T, \"Average MCC\", 'epithelium')\n",
    "print_result_table(pan_mcc_points.astype('int'), \"Statistical score\", 'epithelium')"
   ]
  }
 ],
 "metadata": {
  "kernelspec": {
   "display_name": "Python 3",
   "language": "python",
   "name": "python3"
  },
  "language_info": {
   "codemirror_mode": {
    "name": "ipython",
    "version": 3
   },
   "file_extension": ".py",
   "mimetype": "text/x-python",
   "name": "python",
   "nbconvert_exporter": "python",
   "pygments_lexer": "ipython3",
   "version": "3.7.10"
  }
 },
 "nbformat": 4,
 "nbformat_minor": 5
}
