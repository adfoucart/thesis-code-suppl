{
 "cells": [
  {
   "cell_type": "markdown",
   "id": "7f586a02",
   "metadata": {},
   "source": [
    "# Chapter 4 - Evaluation process"
   ]
  },
  {
   "cell_type": "markdown",
   "id": "49688931",
   "metadata": {},
   "source": [
    "* [4.1. Definitions](./4.1.%20Definitions.ipynb) \n",
    "    * PR curve and AP example\n",
    "    * ROC curve and AUROC example\n",
    "* [4.3.2. Inconsistent behaviour of Cohen's kappa](./4.3.2.%20Inconsistent%20behaviour%20of%20Cohen's%20kappa.ipynb)\n",
    "* [4.4.1. Foreground-background imbalance in detection metrics](./4.4.1.%20Foreground-Background%20imbalance%20in%20detection%20metrics.ipynb)\n",
    "* [4.4.2.1. Imbalance in binary classification metrics](./4.4.2.1.%20Imbalance%20in%20binary%20classification%20metrics.ipynb)\n",
    "* [4.4.2.2. Imbalance in multi-class classification metrics](./4.4.2.2.%20Imbalance%20in%20multi-class%20classification%20metrics.ipynb)\n",
    "* [4.4.2.3. Normalized confusion matrix](./4.4.2.3.%20Normalized%20confusion%20matrix.ipynb) (based on MoNuSAC results)\n",
    "* [4.4.2.4. Example of different error distributions](./4.4.2.4.%20Example%20of%20different%20error%20distributions.ipynb)\n",
    "* [4.4.3. Limit between detection and classification](./4.4.3.%20Limit%20between%20detection%20and%20classification.ipynb)\n",
    "* [4.4.5. Agreement between classification metrics](./4.4.5.%20Agreement%20between%20classification%20metrics.ipynb)\n",
    "* [4.4.6. Biases of segmentation metrics](./4.4.6.%20Biases%20of%20segmentation%20metrics.ipynb)\n",
    "* [4.4.8. Panoptic Quality](https://github.com/adfoucart/panoptic-quality-suppl/blob/main/Panoptic%20Quality.ipynb) (repository for all PQ experiments)"
   ]
  }
 ],
 "metadata": {
  "kernelspec": {
   "display_name": "Python 3",
   "language": "python",
   "name": "python3"
  },
  "language_info": {
   "codemirror_mode": {
    "name": "ipython",
    "version": 3
   },
   "file_extension": ".py",
   "mimetype": "text/x-python",
   "name": "python",
   "nbconvert_exporter": "python",
   "pygments_lexer": "ipython3",
   "version": "3.7.10"
  }
 },
 "nbformat": 4,
 "nbformat_minor": 5
}
